{
 "cells": [
  {
   "cell_type": "code",
   "execution_count": 1,
   "id": "2b507832",
   "metadata": {},
   "outputs": [
    {
     "name": "stdout",
     "output_type": "stream",
     "text": [
      "[30, 24, 18]\n",
      "[84, 69, 54]\n",
      "[138, 114, 90]\n"
     ]
    }
   ],
   "source": [
    "#one thread per row\n",
    "import threading\n",
    "\n",
    "# Define two matrices\n",
    "matrix1 = [\n",
    "    [1, 2, 3],\n",
    "    [4, 5, 6],\n",
    "    [7, 8, 9]\n",
    "]\n",
    "\n",
    "matrix2 = [\n",
    "    [9, 8, 7],\n",
    "    [6, 5, 4],\n",
    "    [3, 2, 1]\n",
    "]\n",
    "\n",
    "# Initialize a result matrix with zeros\n",
    "result = [[0, 0, 0] for _ in range(len(matrix1))]\n",
    "\n",
    "# Define a function to multiply a row\n",
    "def multiply_row(row_index):\n",
    "    for j in range(len(matrix2[0])):\n",
    "        for k in range(len(matrix2)):\n",
    "            result[row_index][j] += matrix1[row_index][k] * matrix2[k][j]\n",
    "\n",
    "# Create and start threads\n",
    "threads = []\n",
    "for i in range(len(matrix1)):\n",
    "    thread = threading.Thread(target=multiply_row, args=(i,))\n",
    "    threads.append(thread)\n",
    "    thread.start()\n",
    "\n",
    "# Wait for all threads to finish\n",
    "for thread in threads:\n",
    "    thread.join()\n",
    "\n",
    "# Print the result\n",
    "for row in result:\n",
    "    print(row)"
   ]
  },
  {
   "cell_type": "code",
   "execution_count": 2,
   "id": "d65c5b98",
   "metadata": {},
   "outputs": [
    {
     "name": "stdout",
     "output_type": "stream",
     "text": [
      "[30, 24, 18]\n",
      "[84, 69, 54]\n",
      "[138, 114, 90]\n"
     ]
    }
   ],
   "source": [
    "#one thread per cell\n",
    "import threading\n",
    "\n",
    "# Define two matrices\n",
    "matrix1 = [\n",
    "    [1, 2, 3],\n",
    "    [4, 5, 6],\n",
    "    [7, 8, 9]\n",
    "]\n",
    "\n",
    "matrix2 = [\n",
    "    [9, 8, 7],\n",
    "    [6, 5, 4],\n",
    "    [3, 2, 1]\n",
    "]\n",
    "\n",
    "# Initialize a result matrix with zeros\n",
    "result = [[0] * len(matrix2[0]) for _ in range(len(matrix1))]\n",
    "\n",
    "# Define a function to multiply a cell\n",
    "def multiply_cell(row, col):\n",
    "    value = 0\n",
    "    for k in range(len(matrix2)):\n",
    "        value += matrix1[row][k] * matrix2[k][col]\n",
    "    result[row][col] = value\n",
    "\n",
    "# Create and start threads for each cell\n",
    "threads = []\n",
    "for i in range(len(matrix1)):\n",
    "    for j in range(len(matrix2[0])):\n",
    "        thread = threading.Thread(target=multiply_cell, args=(i, j))\n",
    "        threads.append(thread)\n",
    "        thread.start()\n",
    "\n",
    "# Wait for all threads to finish\n",
    "for thread in threads:\n",
    "    thread.join()\n",
    "\n",
    "# Print the result\n",
    "for row in result:\n",
    "    print(row)"
   ]
  },
  {
   "cell_type": "code",
   "execution_count": null,
   "id": "06d2f37d",
   "metadata": {},
   "outputs": [],
   "source": []
  }
 ],
 "metadata": {
  "kernelspec": {
   "display_name": "Python 3 (ipykernel)",
   "language": "python",
   "name": "python3"
  },
  "language_info": {
   "codemirror_mode": {
    "name": "ipython",
    "version": 3
   },
   "file_extension": ".py",
   "mimetype": "text/x-python",
   "name": "python",
   "nbconvert_exporter": "python",
   "pygments_lexer": "ipython3",
   "version": "3.10.11"
  }
 },
 "nbformat": 4,
 "nbformat_minor": 5
}
