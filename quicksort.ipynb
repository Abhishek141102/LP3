{
 "cells": [
  {
   "cell_type": "code",
   "execution_count": 1,
   "id": "aa898fbd",
   "metadata": {},
   "outputs": [
    {
     "name": "stdout",
     "output_type": "stream",
     "text": [
      "Deterministic QuickSort: [1, 5, 7, 8, 9, 10]\n",
      "Randomized QuickSort: [1, 1, 1, 5, 5, 7, 7, 7, 7, 7, 8, 8, 9, 9, 9, 10, 10]\n"
     ]
    }
   ],
   "source": [
    "import random\n",
    "\n",
    "def quick_sort(arr):\n",
    "    if len(arr) <= 1:\n",
    "        return arr\n",
    "\n",
    "    pivot = arr[-1]  # Deterministic pivot (choose any element)\n",
    "    left, right = [], []\n",
    "\n",
    "    for element in arr[:-1]:\n",
    "        if element < pivot:\n",
    "            left.append(element)\n",
    "        else:\n",
    "            right.append(element)\n",
    "\n",
    "    return quick_sort(left) + [pivot] + quick_sort(right)\n",
    "\n",
    "def randomized_quick_sort(arr):\n",
    "    if len(arr) <= 1:\n",
    "        return arr\n",
    "\n",
    "    pivot = random.choice(arr)  # Randomized pivot\n",
    "    left, right = [], []\n",
    "\n",
    "    for element in arr:\n",
    "        if element < pivot:\n",
    "            left.append(element)\n",
    "        else:\n",
    "            right.append(element)\n",
    "\n",
    "    return randomized_quick_sort(left) + [pivot] + randomized_quick_sort(right)\n",
    "\n",
    "# Example usage:\n",
    "arr = [10, 7, 8, 9, 1, 5]\n",
    "sorted_arr = quick_sort(arr)\n",
    "print(\"Deterministic QuickSort:\", sorted_arr)\n",
    "\n",
    "sorted_arr_random = randomized_quick_sort(arr)\n",
    "print(\"Randomized QuickSort:\", sorted_arr_random)"
   ]
  },
  {
   "cell_type": "code",
   "execution_count": null,
   "id": "c0132457",
   "metadata": {},
   "outputs": [],
   "source": []
  }
 ],
 "metadata": {
  "kernelspec": {
   "display_name": "Python 3 (ipykernel)",
   "language": "python",
   "name": "python3"
  },
  "language_info": {
   "codemirror_mode": {
    "name": "ipython",
    "version": 3
   },
   "file_extension": ".py",
   "mimetype": "text/x-python",
   "name": "python",
   "nbconvert_exporter": "python",
   "pygments_lexer": "ipython3",
   "version": "3.10.11"
  }
 },
 "nbformat": 4,
 "nbformat_minor": 5
}
